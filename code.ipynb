{
 "cells": [
  {
   "cell_type": "code",
   "execution_count": null,
   "metadata": {},
   "outputs": [],
   "source": [
    "# importing nessary library\n",
    "from scipy.optimize import linprog"
   ]
  },
  {
   "cell_type": "code",
   "execution_count": null,
   "metadata": {},
   "outputs": [],
   "source": [
    "\"\"\"\n",
    "    We have 5 products with us, we will call them a1, a2, a3, a4, a5.\n",
    "    The main equation for optimizing:-\n",
    "    z = 5a1 + 4a2 + 6a3 + 7a4 + 8a5\n",
    "\"\"\""
   ]
  },
  {
   "cell_type": "code",
   "execution_count": null,
   "metadata": {},
   "outputs": [],
   "source": [
    "# Coefficients of the objective function (negative for maximization)\n",
    "c = [-5, -4, -6, -7, -8]"
   ]
  },
  {
   "cell_type": "code",
   "execution_count": null,
   "metadata": {},
   "outputs": [],
   "source": [
    "\"\"\"\n",
    "    Given that the total labour available is 100 units, \n",
    "        and also for each product the amount of labor required that is for,\n",
    "    i. product 1 = 2\n",
    "    ii. Product 2 = 3\n",
    "    iii. Product 3 = 1\n",
    "    iv. Product 4 = 4\n",
    "    v. Product 5 = 5\n",
    "    \n",
    "    Making the equation for labour\n",
    "    2a1 + 3a2 + 1a3 + 4a4 + 5a5 = 100\n",
    "\"\"\""
   ]
  },
  {
   "cell_type": "code",
   "execution_count": null,
   "metadata": {},
   "outputs": [],
   "source": [
    "\"\"\"\n",
    "    Each product requires its own machine time that is for,\n",
    "    i. product 1 = 3\n",
    "    ii. Product 2 = 2\n",
    "    iii. Product 3 = 4\n",
    "    iv. Product 4 = 1\n",
    "    v. Product 5 = 5\n",
    "    \n",
    "    Making the equation for machine time\n",
    "    3a1 + 2a2 + 4a3 + a4 + 3a5 = 80\n",
    "\"\"\""
   ]
  },
  {
   "cell_type": "code",
   "execution_count": null,
   "metadata": {},
   "outputs": [],
   "source": [
    "\"\"\"\n",
    "    Each product requires its own raw material that is for,\n",
    "    i. product 1 = 4\n",
    "    ii. Product 2 = 1\n",
    "    iii. Product 3 = 3\n",
    "    iv. Product 4 = 2\n",
    "    v. Product 5 = 2\n",
    "    \n",
    "    Making the equation for raw materials\n",
    "    4a1 + a2 + 3a3 + 2a4 + 2a5 = 70\n",
    "\"\"\""
   ]
  },
  {
   "cell_type": "code",
   "execution_count": null,
   "metadata": {},
   "outputs": [],
   "source": [
    "# Coefficients of the inequality constraints\n",
    "A = [\n",
    "        [2, 3, 1, 4, 5],    # Labor constraint\n",
    "        [3, 2, 4, 1, 3],    # Machine time constraint\n",
    "        [4, 1, 3, 2, 2],    # Raw materials constraint\n",
    "        [1, 0, 0, 0, 0],    # Production of P1 constraint\n",
    "        [0, -1, -1, 0, 0],  # Combined production of P2 and P3 (negated)\n",
    "        [0, 0, 0, -1, 0]    # Minimum production of P4 (negated)\n",
    "]"
   ]
  },
  {
   "cell_type": "code",
   "execution_count": null,
   "metadata": {},
   "outputs": [],
   "source": [
    "\"\"\"\n",
    "    So, in this problem we are trying to maximize the profit,\n",
    "    \n",
    "    Hence, on the LHS we will have\n",
    "    values of the labour, machine time, raw materials, production of P1, combined production of P2 and P3, minimum production of P4\n",
    "    \n",
    "\"\"\""
   ]
  },
  {
   "cell_type": "code",
   "execution_count": null,
   "metadata": {},
   "outputs": [],
   "source": [
    "# Right-hand side of the inequality constraints\n",
    "b = [100, 80, 70, 20, -10, -5]"
   ]
  },
  {
   "cell_type": "code",
   "execution_count": null,
   "metadata": {},
   "outputs": [],
   "source": [
    "# Bounding the value from 0 to infinity\n",
    "x_bounds = (0, None)\n",
    "bounds = [x_bounds, x_bounds, x_bounds, x_bounds, x_bounds]"
   ]
  },
  {
   "cell_type": "code",
   "execution_count": null,
   "metadata": {},
   "outputs": [],
   "source": [
    "# Calculating the linear programming problem\n",
    "result = linprog(\n",
    "    c,                  # Passing the coefficients of the objective function\n",
    "    A_ub = A,           # Passing the coefficients of the inequality constraints\n",
    "    b_ub = b,           # Passing the RHS of the inequality constraints\n",
    "    bounds = bounds,    # Passing the bounds of the variables\n",
    "    method = 'highs'    # Setting the solving method type to 'high' which the same as 'simplex'\n",
    ")"
   ]
  },
  {
   "cell_type": "code",
   "execution_count": null,
   "metadata": {},
   "outputs": [],
   "source": [
    "# Printing the results\n",
    "if result.success:                                  # Checking if optimal solution is found\n",
    "    print(\"Optimal solution found:\")\n",
    "    print(f\"Units of P1: {result.x[0]:.2f}\")        # Printing the optimal units of P1\n",
    "    print(f\"Units of P2: {result.x[1]:.2f}\")        # Printing the optimal units of P2\n",
    "    print(f\"Units of P3: {result.x[2]:.2f}\")        # Printing the optimal units of P3\n",
    "    print(f\"Units of P4: {result.x[3]:.2f}\")        # Printing the optimal units of P4\n",
    "    print(f\"Units of P5: {result.x[4]:.2f}\")        # Printing the optimal units of P5\n",
    "    print(f\"Maximum profit: ${-result.fun:.2f}\")    # Printing the maximum profit which we will be getting from the calculation\n",
    "else:\n",
    "    print(\"No optimal solution found.\")"
   ]
  }
 ],
 "metadata": {
  "kernelspec": {
   "display_name": "base",
   "language": "python",
   "name": "python3"
  },
  "language_info": {
   "codemirror_mode": {
    "name": "ipython",
    "version": 3
   },
   "file_extension": ".py",
   "mimetype": "text/x-python",
   "name": "python",
   "nbconvert_exporter": "python",
   "pygments_lexer": "ipython3",
   "version": "3.9.19"
  }
 },
 "nbformat": 4,
 "nbformat_minor": 2
}
